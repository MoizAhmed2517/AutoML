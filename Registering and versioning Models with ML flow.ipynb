{
 "cells": [
  {
   "cell_type": "code",
   "execution_count": 1,
   "id": "c6b9f58b",
   "metadata": {},
   "outputs": [],
   "source": [
    "#importing system libraries\n",
    "import os \n",
    "import sys\n",
    "import warnings\n",
    "\n",
    "#importing libraries for model making\n",
    "import numpy as np\n",
    "import pandas as pd\n",
    "from sklearn.metrics import mean_squared_error, mean_absolute_error, r2_score\n",
    "from sklearn.model_selection import train_test_split\n",
    "from sklearn.linear_model import ElasticNet\n",
    "from urllib.parse import urlparse\n",
    "import mlflow\n",
    "import mlflow.sklearn\n",
    "\n",
    "import logging"
   ]
  },
  {
   "cell_type": "code",
   "execution_count": 2,
   "id": "22446d11",
   "metadata": {},
   "outputs": [],
   "source": [
    "logging.basicConfig(level=logging.WARN)\n",
    "logger = logging.getLogger(__name__)"
   ]
  },
  {
   "cell_type": "code",
   "execution_count": 3,
   "id": "053ba05c",
   "metadata": {},
   "outputs": [],
   "source": [
    "def eval_metrics(actual, pred):\n",
    "    rmse = np.sqrt(mean_squared_error(actual, pred))\n",
    "    mae = mean_absolute_error(actual, pred)\n",
    "    r2 = r2_score(actual, pred)\n",
    "    return rmse, mae, r2"
   ]
  },
  {
   "cell_type": "code",
   "execution_count": 18,
   "id": "9993ddb7",
   "metadata": {},
   "outputs": [
    {
     "name": "stdout",
     "output_type": "stream",
     "text": [
      "Elasticnet model (alpha=0.500000, l1_ratio=0.500000):\n",
      "  RMSE: 0.793164022927685\n",
      "  MAE: 0.6271946374319586\n",
      "  R2: 0.10862644997792636\n"
     ]
    }
   ],
   "source": [
    "if __name__ == \"__main__\":\n",
    "    \n",
    "    warnings.filterwarnings(\"ignore\")\n",
    "    np.random.seed(40)\n",
    "    \n",
    "    csv_url = (\"http://archive.ics.uci.edu/ml/machine-learning-databases/wine-quality/winequality-red.csv\")\n",
    "    \n",
    "    try:\n",
    "        data = pd.read_csv(csv_url, sep=\";\")\n",
    "    \n",
    "    except Exception as e:\n",
    "        logger.exception(\"Unable to download training & test CAV, check your internet connection. Error: %s\", e)\n",
    "    \n",
    "    train, test = train_test_split(data)\n",
    "    \n",
    "    train_x = train.drop([\"quality\"], axis=1)\n",
    "    test_x = test.drop([\"quality\"], axis=1)\n",
    "    train_y = train[[\"quality\"]]\n",
    "    test_y = test[[\"quality\"]]\n",
    "\n",
    "    alpha = 0.5\n",
    "    l1_ratio = 0.5\n",
    "    \n",
    "    with mlflow.start_run():\n",
    "        \n",
    "        lr = ElasticNet(alpha=alpha, l1_ratio=l1_ratio, random_state=42)\n",
    "        lr.fit(train_x, train_y)\n",
    "        \n",
    "        y_pred = lr.predict(test_x)\n",
    "        \n",
    "        (rmse, mae, r2) = eval_metrics(test_y, y_pred)\n",
    "        \n",
    "        print(\"Elasticnet model (alpha=%f, l1_ratio=%f):\" % (alpha, l1_ratio))\n",
    "        print(\"  RMSE: %s\" % rmse)\n",
    "        print(\"  MAE: %s\" % mae)\n",
    "        print(\"  R2: %s\" % r2)\n",
    "        \n",
    "        mlflow.log_param(\"alpha\", alpha)\n",
    "        mlflow.log_param(\"l1_ratio\", l1_ratio)\n",
    "        mlflow.log_metric(\"rmse\", rmse)\n",
    "        mlflow.log_metric(\"mae\", mae)\n",
    "        mlflow.log_metric(\"r2\", r2)\n",
    "        \n",
    "        tracking_url_type_store = urlparse(mlflow.get_tracking_uri()).scheme\n",
    "        \n",
    "        if tracking_url_type_store != \"file\":\n",
    "            mlflow.sklearn.log_model(lr, \"model\", registered_model_name=\"Elasticnetwinemodel\")\n",
    "        else:\n",
    "            mlflow.sklearn.log_model(lr, \"model\")"
   ]
  },
  {
   "cell_type": "code",
   "execution_count": 19,
   "id": "61528194",
   "metadata": {},
   "outputs": [
    {
     "name": "stderr",
     "output_type": "stream",
     "text": [
      "2023/07/21 00:49:33 ERROR mlflow.cli: Error initializing backend store\n",
      "2023/07/21 00:49:33 ERROR mlflow.cli: [WinError 5] Access is denied: '\\\\Users\\\\Swapnil'\n",
      "Traceback (most recent call last):\n",
      "  File \"C:\\Users\\HP\\anaconda3\\envs\\venv\\lib\\site-packages\\mlflow\\cli.py\", line 426, in server\n",
      "    initialize_backend_stores(backend_store_uri, registry_store_uri, default_artifact_root)\n",
      "  File \"C:\\Users\\HP\\anaconda3\\envs\\venv\\lib\\site-packages\\mlflow\\server\\handlers.py\", line 279, in initialize_backend_stores\n",
      "    _get_tracking_store(backend_store_uri, default_artifact_root)\n",
      "  File \"C:\\Users\\HP\\anaconda3\\envs\\venv\\lib\\site-packages\\mlflow\\server\\handlers.py\", line 258, in _get_tracking_store\n",
      "    _tracking_store = _tracking_store_registry.get_store(store_uri, artifact_root)\n",
      "  File \"C:\\Users\\HP\\anaconda3\\envs\\venv\\lib\\site-packages\\mlflow\\tracking\\_tracking_service\\registry.py\", line 39, in get_store\n",
      "    return self._get_store_with_resolved_uri(resolved_store_uri, artifact_uri)\n",
      "  File \"C:\\Users\\HP\\anaconda3\\envs\\venv\\lib\\site-packages\\mlflow\\tracking\\_tracking_service\\registry.py\", line 49, in _get_store_with_resolved_uri\n",
      "    return builder(store_uri=resolved_store_uri, artifact_uri=artifact_uri)\n",
      "  File \"C:\\Users\\HP\\anaconda3\\envs\\venv\\lib\\site-packages\\mlflow\\server\\handlers.py\", line 113, in _get_file_store\n",
      "    return FileStore(store_uri, artifact_uri)\n",
      "  File \"C:\\Users\\HP\\anaconda3\\envs\\venv\\lib\\site-packages\\mlflow\\store\\tracking\\file_store.py\", line 169, in __init__\n",
      "    self._create_default_experiment()\n",
      "  File \"C:\\Users\\HP\\anaconda3\\envs\\venv\\lib\\site-packages\\mlflow\\store\\tracking\\file_store.py\", line 175, in _create_default_experiment\n",
      "    mkdir(self.root_directory)\n",
      "  File \"C:\\Users\\HP\\anaconda3\\envs\\venv\\lib\\site-packages\\mlflow\\utils\\file_utils.py\", line 134, in mkdir\n",
      "    raise e\n",
      "  File \"C:\\Users\\HP\\anaconda3\\envs\\venv\\lib\\site-packages\\mlflow\\utils\\file_utils.py\", line 131, in mkdir\n",
      "    os.makedirs(target)\n",
      "  File \"C:\\Users\\HP\\anaconda3\\envs\\venv\\lib\\os.py\", line 215, in makedirs\n",
      "    makedirs(head, exist_ok=exist_ok)\n",
      "  File \"C:\\Users\\HP\\anaconda3\\envs\\venv\\lib\\os.py\", line 215, in makedirs\n",
      "    makedirs(head, exist_ok=exist_ok)\n",
      "  File \"C:\\Users\\HP\\anaconda3\\envs\\venv\\lib\\os.py\", line 215, in makedirs\n",
      "    makedirs(head, exist_ok=exist_ok)\n",
      "  [Previous line repeated 1 more time]\n",
      "  File \"C:\\Users\\HP\\anaconda3\\envs\\venv\\lib\\os.py\", line 225, in makedirs\n",
      "    mkdir(name, mode)\n",
      "PermissionError: [WinError 5] Access is denied: '\\\\Users\\\\Swapnil'\n"
     ]
    }
   ],
   "source": [
    "!mlflow ui --backend-store-uri file:///Users/Swapnil/Documents/LocalPython/MLFLowDemo/mlrun"
   ]
  },
  {
   "cell_type": "code",
   "execution_count": null,
   "id": "d3a37b15",
   "metadata": {},
   "outputs": [],
   "source": []
  }
 ],
 "metadata": {
  "kernelspec": {
   "display_name": "Python 3 (ipykernel)",
   "language": "python",
   "name": "python3"
  },
  "language_info": {
   "codemirror_mode": {
    "name": "ipython",
    "version": 3
   },
   "file_extension": ".py",
   "mimetype": "text/x-python",
   "name": "python",
   "nbconvert_exporter": "python",
   "pygments_lexer": "ipython3",
   "version": "3.9.16"
  }
 },
 "nbformat": 4,
 "nbformat_minor": 5
}
